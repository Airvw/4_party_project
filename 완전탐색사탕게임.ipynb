{
  "nbformat": 4,
  "nbformat_minor": 0,
  "metadata": {
    "colab": {
      "name": "완전탐색사탕게임.ipynb",
      "provenance": [],
      "authorship_tag": "ABX9TyNAwd2dHlUb9ZDLC1SF3x2C",
      "include_colab_link": true
    },
    "kernelspec": {
      "name": "python3",
      "display_name": "Python 3"
    }
  },
  "cells": [
    {
      "cell_type": "markdown",
      "metadata": {
        "id": "view-in-github",
        "colab_type": "text"
      },
      "source": [
        "<a href=\"https://colab.research.google.com/github/hoon2hooni/4_party_project/blob/master/%EC%99%84%EC%A0%84%ED%83%90%EC%83%89%EC%82%AC%ED%83%95%EA%B2%8C%EC%9E%84.ipynb\" target=\"_parent\"><img src=\"https://colab.research.google.com/assets/colab-badge.svg\" alt=\"Open In Colab\"/></a>"
      ]
    },
    {
      "cell_type": "code",
      "metadata": {
        "colab": {
          "base_uri": "https://localhost:8080/"
        },
        "id": "D2TChsD-xME5",
        "outputId": "3adeee69-1625-4c6e-e4e5-ddbd709d26df"
      },
      "source": [
        "\n",
        "\n",
        "#swap 확인 \n",
        "a =[1,2,3,4,5]\n",
        "\n",
        "a[1],a[2] = a[2] , a[1]\n",
        "print(a)"
      ],
      "execution_count": null,
      "outputs": [
        {
          "output_type": "stream",
          "text": [
            "[1, 3, 2, 4, 5]\n"
          ],
          "name": "stdout"
        }
      ]
    },
    {
      "cell_type": "code",
      "metadata": {
        "colab": {
          "base_uri": "https://localhost:8080/"
        },
        "id": "RQTl-OH5xYSp",
        "outputId": "34840490-0033-44cc-a34a-b3cc3a3c3017"
      },
      "source": [
        "n = int(input())\n",
        "matrix =[[0]*n for _ in range(n)]\n",
        "for i in range(5):\n",
        "    "
      ],
      "execution_count": null,
      "outputs": [
        {
          "output_type": "stream",
          "text": [
            "abcde\n",
            "cdfdd\n",
            "fjfjf\n"
          ],
          "name": "stdout"
        }
      ]
    },
    {
      "cell_type": "code",
      "metadata": {
        "colab": {
          "base_uri": "https://localhost:8080/"
        },
        "id": "aT6k2bDPxjDE",
        "outputId": "780c5338-313d-4ecb-da2d-c30f0cb809b2"
      },
      "source": [
        "#열뽑기\n",
        "for j in range(3):\n",
        "    print(matrix[j][1])"
      ],
      "execution_count": null,
      "outputs": [
        {
          "output_type": "stream",
          "text": [
            "b\n",
            "d\n",
            "j\n"
          ],
          "name": "stdout"
        }
      ]
    },
    {
      "cell_type": "code",
      "metadata": {
        "colab": {
          "base_uri": "https://localhost:8080/"
        },
        "id": "Tu3qINNAxspK",
        "outputId": "d589463f-d447-40fd-cc2a-5abe2f4b4f0a"
      },
      "source": [
        "#행뽑기\n",
        "\n",
        "\n"
      ],
      "execution_count": null,
      "outputs": [
        {
          "output_type": "stream",
          "text": [
            "[['C', 'Y', 'Z', 'Z', 'Y'], ['Y', 'C', 'Y', 'Z', 'P'], ['Y', 'C', 'Y', 'Z', 'P'], ['C', 'P', 'P', 'Z', 'Z'], ['Y', 'P', 'P', 'C', 'Z']]\n",
            "[['C', 'Y', 'Z', 'Z', 'Y'], ['C', 'C', 'P', 'P', 'C'], ['Y', 'C', 'Y', 'Z', 'P'], ['C', 'P', 'P', 'Z', 'Z'], ['Y', 'P', 'P', 'C', 'Z']]\n"
          ],
          "name": "stdout"
        }
      ]
    },
    {
      "cell_type": "code",
      "metadata": {
        "colab": {
          "base_uri": "https://localhost:8080/"
        },
        "id": "Xd56DrpZy5yY",
        "outputId": "5bb14f8a-f6ef-4562-8732-26c0ad2f6aef"
      },
      "source": [
        "import copy\n",
        "n = int(input())\n",
        "matrix =[]\n",
        "\n",
        "def col_swap(row, col):\n",
        "    if col == n-1:\n",
        "        return 0\n",
        "    s_matrix = matrix[:]\n",
        "    s_matrix[row][col], s_matrix[row][col+1] = s_matrix[row][col+1], s_matrix[row][col] # 열 2개 바꾸기 좌 ->우 \n",
        "    n = col_check(row,col, s_matrix)\n",
        "    n2 = col_check(row,col + 1,s_matrix)\n",
        "    s_matrix[row][col], s_matrix[row][col+1] = s_matrix[row][col+1], s_matrix[row][col] # 다시 원래대로\n",
        "    return max(n,n2)\n",
        "\n",
        "def row_swap(row, col):\n",
        "    if row == n-1:\n",
        "        return 0\n",
        "    s_matrix = matrix[:]\n",
        "    s_matrix[row][col], s_matrix[row+1][col] = s_matrix[row+1][col], s_matrix[row][col] # 행 2개 바꾸기 우->좌\n",
        "    n = row_check(row,col, s_matrix)\n",
        "    n2 = row_check(row + 1,col, s_matrix)\n",
        "    s_matrix[row][col], s_matrix[row+1][col] = s_matrix[row+1][col], s_matrix[row][col] # 다시 원래대로\n",
        "    return max(n,n2)\n",
        "\n",
        "def col_check(row, col, m): #열 바꾼것 행만 봐주면됨\n",
        "    checklist =[]\n",
        "    num = 1\n",
        "    for i in range(0, n-1):\n",
        "        std = 1\n",
        "        check = m[i][col]\n",
        "        for j in range(i+1, n):\n",
        "            if check ==m[j][col]:\n",
        "                std +=1\n",
        "                num = max(num, std)\n",
        "            else:\n",
        "                break\n",
        "    return num \n",
        "\n",
        "    \n",
        "def row_check(row, col, m):\n",
        "    checklist =[]\n",
        "    num = 1\n",
        "    for i in range(0, n-1):\n",
        "        std = 1\n",
        "        check = m[row][i]\n",
        "        for j in range(i+1, n):\n",
        "            if check ==m[row][j]:\n",
        "                std += 1\n",
        "                num = max(num , std)\n",
        "            else: break\n",
        "    return num\n",
        "\n",
        "\n",
        "for i in range(n):\n",
        "    matrix.append(list(input()))\n",
        "result = 1\n",
        "for i in range(n): # 마지막 열과 행 직전까지 바꿔줌\n",
        "    for j in range(n):\n",
        "        c_n = col_swap(i,j)\n",
        "        r_n = row_swap(i,j)\n",
        "        result = max(result, c_n, r_n)\n",
        "\n",
        "print(result)"
      ],
      "execution_count": null,
      "outputs": [
        {
          "output_type": "stream",
          "text": [
            "5\n",
            "YCPZY\n",
            "CYZZP\n",
            "CCPPP\n",
            "YCYZC\n",
            "CPPZZ\n",
            "4\n"
          ],
          "name": "stdout"
        }
      ]
    },
    {
      "cell_type": "code",
      "metadata": {
        "colab": {
          "base_uri": "https://localhost:8080/"
        },
        "id": "_NKO4H9L6zw8",
        "outputId": "4c668865-f950-4ab8-d820-230715f00397"
      },
      "source": [
        "max(1,2,3)"
      ],
      "execution_count": null,
      "outputs": [
        {
          "output_type": "execute_result",
          "data": {
            "text/plain": [
              "3"
            ]
          },
          "metadata": {
            "tags": []
          },
          "execution_count": 23
        }
      ]
    },
    {
      "cell_type": "code",
      "metadata": {
        "colab": {
          "base_uri": "https://localhost:8080/"
        },
        "id": "DHRlCNiX79N3",
        "outputId": "c4e61878-ffed-4c3a-8b2b-53fa5ef25c96"
      },
      "source": [
        "checkfunc(list('CCPPP'))"
      ],
      "execution_count": null,
      "outputs": [
        {
          "output_type": "stream",
          "text": [
            "j = 1, std = 2\n",
            "j = 1, std = 2,n_=2\n",
            "j = 2, std = 2,n_=2\n",
            "j = 2, std = 1,n_=2\n",
            "j = 3, std = 2\n",
            "j = 3, std = 2,n_=2\n",
            "j = 4, std = 3\n",
            "j = 4, std = 3,n_=3\n",
            "j = 4, std = 2\n",
            "j = 4, std = 2,n_=3\n"
          ],
          "name": "stdout"
        },
        {
          "output_type": "execute_result",
          "data": {
            "text/plain": [
              "3"
            ]
          },
          "metadata": {
            "tags": []
          },
          "execution_count": 40
        }
      ]
    },
    {
      "cell_type": "code",
      "metadata": {
        "id": "ZKSdbCW08hn0"
      },
      "source": [
        "def checkfunc(l):\n",
        "    n_ = 1\n",
        "    for i in range(0, n-1):\n",
        "        std = 1\n",
        "        check = l[i]\n",
        "        for j in range(i+1,n):\n",
        "            if check == l[j]:\n",
        "                std += 1\n",
        "                n_ = max(n_, std)\n",
        "                print(f'j = {j}, std = {std},n_={n_}')\n",
        "            else:\n",
        "                # n_ = max(n_, std)\n",
        "                print(f'j = {j}, std = {std},n_={n_}')\n",
        "                break\n",
        "    return n_"
      ],
      "execution_count": null,
      "outputs": []
    },
    {
      "cell_type": "code",
      "metadata": {
        "colab": {
          "base_uri": "https://localhost:8080/"
        },
        "id": "65_DWAsc9Mmk",
        "outputId": "bd709ec8-8bb1-4349-f8b3-657fec9faec6"
      },
      "source": [
        "checkfunc(['C', 'C', 'C', 'Y', 'C'])"
      ],
      "execution_count": null,
      "outputs": [
        {
          "output_type": "stream",
          "text": [
            "j = 1, std = 2,n_=2\n",
            "j = 2, std = 3,n_=3\n",
            "j = 3, std = 3,n_=3\n",
            "j = 2, std = 2,n_=3\n",
            "j = 3, std = 2,n_=3\n",
            "j = 3, std = 1,n_=3\n",
            "j = 4, std = 1,n_=3\n"
          ],
          "name": "stdout"
        },
        {
          "output_type": "execute_result",
          "data": {
            "text/plain": [
              "3"
            ]
          },
          "metadata": {
            "tags": []
          },
          "execution_count": 45
        }
      ]
    },
    {
      "cell_type": "code",
      "metadata": {
        "colab": {
          "base_uri": "https://localhost:8080/"
        },
        "id": "TQsvE5tD-2wT",
        "outputId": "e1100ddf-3680-44b2-f5f3-472297f707c4"
      },
      "source": [
        "\n",
        "\n",
        "a = [['r']*5 for _ in  range(5)]\n",
        "r = 0 \n",
        "n = 5\n",
        "for i in range(n):\n",
        "    c = 1\n",
        "    for j in range(1,n):\n",
        "        if a[i][j] == a[i][j-1]:\n",
        "            c += 1\n",
        "        else:\n",
        "            if r < c:\n",
        "                r = c\n",
        "            c = 1\n",
        "\n",
        "        if r < c: #다같을때 \n",
        "            print(f\"happy r={r},c = {c}\")\n",
        "            r = c\n",
        "print(r)\n",
        "\n",
        "            \n"
      ],
      "execution_count": null,
      "outputs": [
        {
          "output_type": "stream",
          "text": [
            "0\n"
          ],
          "name": "stdout"
        }
      ]
    },
    {
      "cell_type": "code",
      "metadata": {
        "id": "MhCbbR4sic7I"
      },
      "source": [
        ""
      ],
      "execution_count": null,
      "outputs": []
    }
  ]
}