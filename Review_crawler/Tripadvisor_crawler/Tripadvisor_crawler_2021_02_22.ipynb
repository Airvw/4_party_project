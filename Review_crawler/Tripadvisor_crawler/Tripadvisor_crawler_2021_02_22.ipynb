{
 "cells": [
  {
   "cell_type": "markdown",
   "metadata": {},
   "source": [
    "## Selenuium 기반 Tripadvisor Review Crawler"
   ]
  },
  {
   "cell_type": "code",
   "execution_count": 1,
   "metadata": {
    "ExecuteTime": {
     "end_time": "2021-02-22T05:45:27.733807Z",
     "start_time": "2021-02-22T05:45:26.977305Z"
    }
   },
   "outputs": [],
   "source": [
    "# coding:utf-8\n",
    "\n",
    "import time\n",
    "from selenium.webdriver import Chrome\n",
    "from selenium.webdriver import ChromeOptions\n",
    "import re\n",
    "import pandas as pd\n",
    "from selenium.webdriver.common.by import By\n",
    "from selenium.webdriver.support.ui import WebDriverWait\n",
    "from selenium.webdriver.support import expected_conditions as EC\n",
    "from selenium.webdriver.common.keys import Keys"
   ]
  },
  {
   "cell_type": "code",
   "execution_count": 3,
   "metadata": {},
   "outputs": [],
   "source": [
    "def init_page_setting(driver):\n",
    "    filter_hotel_xpath = '//*[@id=\"component_10\"]/div/div[2]/div[5]/div[2]/div[1]/div/label'\n",
    "    driver.find_element_by_xpath(filter_hotel_xpath).click()  # 호텔 필터 클릭\n",
    "    time.sleep(8)\n",
    "\n",
    "    open_view_box_xpath = '/html/body/div[2]/div[1]/div[1]/div/div[2]/div[2]/div/div[2]/div[2]/span[1]/div/div/div[1]'\n",
    "    driver.find_element_by_xpath(open_view_box_xpath).click()\n",
    "    time.sleep(1)\n",
    "\n",
    "    sort_distance_xpath = '/html/body/div[2]/div[1]/div[1]/div/div[2]/div[2]/div/div[2]/div[2]/span[1]/div/div[2]/div[4]/div'\n",
    "    driver.find_element_by_xpath(sort_distance_xpath).click()\n",
    "    time.sleep(8)\n",
    "\n",
    "    \n",
    "def click_hotel_next_btn(driver):\n",
    "    next_btn_xpath = '//*[@class=\"unified ui_pagination standard_pagination ui_section listFooter\"]/a'\n",
    "    next_btn = driver.find_elements_by_xpath(next_btn_xpath)  # next page\n",
    "    next_btn[-1].send_keys(Keys.ENTER)\n",
    "    time.sleep(5)\n",
    "\n",
    "    \n",
    "def get_hotel_review(driver):\n",
    "    review_list = []\n",
    "    try:\n",
    "        review_pages = int(driver.find_elements_by_xpath('//*[@id=\"component_14\"]/div/div[3]/div[8]/div/div/a')[-1].text)\n",
    "    except:\n",
    "        review_pages = driver.find_element_by_xpath('//*[@id=\"component_4\"]/div/div/div[1]/div[2]/a/span[2]').text\n",
    "        review_pages = int(''.join(list(filter(str.isdigit, review_pages))))//4\n",
    "\n",
    "\n",
    "\n",
    "    hotel_name = driver.find_element_by_xpath('//*[@id=\"HEADING\"]').text\n",
    "    hotel_address = driver.find_element_by_xpath(\n",
    "        '//*[@id=\"component_4\"]/div/div/div[2]/div/div[2]/div/div/div').text\n",
    "    hotel_rating = float(driver.find_element_by_css_selector('span._3cjYfwwQ').text)\n",
    "\n",
    "    print(hotel_name, review_pages)\n",
    "\n",
    "    for i in range(review_pages):\n",
    "        try:\n",
    "            # 더보기 버튼 누르기 시도\n",
    "            more_btn = driver.find_element_by_css_selector('div.XUVJZtom')\n",
    "            driver.execute_script(\"arguments[0].click();\", more_btn)\n",
    "\n",
    "        except:\n",
    "            # 더보기 버튼이 존재하지 않으면 가져올 review가 없으므로 바로 탈출\n",
    "            driver.close()\n",
    "            return [[0]]\n",
    "\n",
    "        time.sleep(2)\n",
    "\n",
    "        # 추출할 속성들 정리\n",
    "        comment_tags = [driver.find_elements_by_css_selector('div._2fxQ4TOx'),  # Date\n",
    "                        driver.find_elements_by_css_selector('div.nf9vGX55'), # Review Rating\n",
    "\n",
    "                        driver.find_elements_by_css_selector('div.glasR4aX'), # Review Title\n",
    "                        driver.find_elements_by_css_selector('q.IRsGHoPm')  # review plain txt\n",
    "                        ]\n",
    "\n",
    "        # 추출한 속성 review_list에 추가\n",
    "        for d, rr, rt, rpt in zip(*comment_tags):\n",
    "            review_list.append([hotel_name, hotel_address, hotel_rating * 2, preprocessing_date(d.text),\n",
    "                                float(rr.find_element_by_xpath(\"descendant::span\").get_attribute('class')[-2:]) / 5, rt.text, rpt.text])\n",
    "        # 다음을 누를 수 있으면 다음\n",
    "        try :\n",
    "            review_next_btns = driver.find_elements_by_xpath('//*[@id=\"component_14\"]/div/div[3]/div[8]/div/a')\n",
    "            if review_next_btns[-1].text == \"다음\":\n",
    "                review_next_btns[-1].click()\n",
    "            time.sleep(4)\n",
    "\n",
    "        # 다음을 누를 수 없으므로 탈출\n",
    "        except:\n",
    "            break\n",
    "\n",
    "    driver.close()\n",
    "\n",
    "    return review_list\n",
    "\n",
    "\n",
    "def preprocessing_date(date):\n",
    "    try :\n",
    "        tmp = re.compile(r'\\d\\d\\d\\d년 \\d\\d월').search(date).group()\n",
    "        year, mon = tmp.split(\"년\")\n",
    "        return year + \"-\" + mon[1:3]\n",
    "    except:\n",
    "        return str(now_date.tm_year) + \"-\" + str(now_date.tm_mon)"
   ]
  },
  {
   "cell_type": "markdown",
   "metadata": {},
   "source": [
    "검색어를 지정해주는 방식을 Test"
   ]
  },
  {
   "cell_type": "code",
   "execution_count": 4,
   "metadata": {},
   "outputs": [],
   "source": [
    "# url 접속\n",
    "\n",
    "url = 'https://www.tripadvisor.co.kr/Hotels-g294197-Seoul-Hotels.html'\n",
    "options = ChromeOptions()\n",
    "# options.add_argument('headless')\n",
    "driver = Chrome(\"chromedriver\", options=options)\n",
    "driver.set_window_size(2560,1440)\n",
    "driver.get(url)\n",
    "time.sleep(5)"
   ]
  },
  {
   "cell_type": "code",
   "execution_count": 4,
   "metadata": {
    "ExecuteTime": {
     "end_time": "2021-02-22T05:46:41.416497Z",
     "start_time": "2021-02-22T05:46:41.410499Z"
    }
   },
   "outputs": [],
   "source": [
    "init_page_setting(driver)\n",
    "\n",
    "page_size = int(driver.find_element_by_xpath('/html/body/div[2]/div[1]/div[1]/div/div[2]/div[3]/div[2]/div[9]/div/div/div/div/a[7]').text)\n",
    "\n",
    "time.sleep(5)\n",
    "\n",
    "# 리뷰 중 날짜가 최근인 데이터들을 맞춰주기 위해\n",
    "now_date = time.localtime(time.time())\n",
    "now_year, now_mon = now_date.tm_year, now_date.tm_mon\n",
    "\n",
    "# csv 저장 편리하게 하기 위해\n",
    "page_idx = 1"
   ]
  },
  {
   "cell_type": "code",
   "execution_count": 5,
   "metadata": {
    "ExecuteTime": {
     "end_time": "2021-02-22T05:46:43.055653Z",
     "start_time": "2021-02-22T05:46:43.020656Z"
    }
   },
   "outputs": [
    {
     "data": {
      "text/html": [
       "<div>\n",
       "<style scoped>\n",
       "    .dataframe tbody tr th:only-of-type {\n",
       "        vertical-align: middle;\n",
       "    }\n",
       "\n",
       "    .dataframe tbody tr th {\n",
       "        vertical-align: top;\n",
       "    }\n",
       "\n",
       "    .dataframe thead th {\n",
       "        text-align: right;\n",
       "    }\n",
       "</style>\n",
       "<table border=\"1\" class=\"dataframe\">\n",
       "  <thead>\n",
       "    <tr style=\"text-align: right;\">\n",
       "      <th></th>\n",
       "      <th>0</th>\n",
       "      <th>1</th>\n",
       "      <th>2</th>\n",
       "      <th>3</th>\n",
       "    </tr>\n",
       "  </thead>\n",
       "  <tbody>\n",
       "    <tr>\n",
       "      <th>0</th>\n",
       "      <td>1</td>\n",
       "      <td>2</td>\n",
       "      <td>3</td>\n",
       "      <td>4</td>\n",
       "    </tr>\n",
       "    <tr>\n",
       "      <th>1</th>\n",
       "      <td>3</td>\n",
       "      <td>4</td>\n",
       "      <td>5</td>\n",
       "      <td>6</td>\n",
       "    </tr>\n",
       "  </tbody>\n",
       "</table>\n",
       "</div>"
      ],
      "text/plain": [
       "   0  1  2  3\n",
       "0  1  2  3  4\n",
       "1  3  4  5  6"
      ]
     },
     "execution_count": 5,
     "metadata": {},
     "output_type": "execute_result"
    }
   ],
   "source": [
    "for page_num in range(page_size - 1):\n",
    "\n",
    "    # 호텔 리스트 페이지에서 리뷰가 있다면 각 호텔 리뷰 페이지로 접속\n",
    "    hotel_pages = driver.find_elements_by_css_selector('a.review_count')\n",
    "    hotels_review_list = []\n",
    "    print(len(hotel_pages))\n",
    "    for hp_idx in range(len(hotel_pages)):\n",
    "        # review가 0개보다 클 경우 클릭\n",
    "        time.sleep(3)\n",
    "\n",
    "        # 많은 시간이 지연되서 팝업이 뜰 수도 있기 때문에\n",
    "        if hp_idx % 3 == 0:\n",
    "            driver.refresh()\n",
    "            time.sleep(7)\n",
    "            print(\"refresh\")\n",
    "\n",
    "        hotel_pages = driver.find_elements_by_css_selector('a.review_count')\n",
    "        if hotel_pages[hp_idx].get_attribute('class') == \"review_count\":\n",
    "            hotel_pages[hp_idx].send_keys(Keys.ENTER)\n",
    "            time.sleep(5)\n",
    "            driver.switch_to.window(driver.window_handles[-1])\n",
    "            time.sleep(1)\n",
    "\n",
    "            # review가 있는 hotel page에서 review 가져오기 시작\n",
    "            tmp = get_hotel_review(driver)\n",
    "            try:\n",
    "                if len(tmp[0]) > 1 :\n",
    "                    hotels_review_list += tmp\n",
    "            except:\n",
    "                pass\n",
    "            print(\"hotel fin\")\n",
    "            driver.switch_to.window(driver.window_handles[0])\n",
    "\n",
    "    click_hotel_next_btn(driver)\n",
    "\n",
    "    df = pd.DataFrame(hotels_review_list)\n",
    "    df.to_csv(f'../csv_output/Tripadvisor{page_idx}.csv',\n",
    "              index=False,\n",
    "              header=[\"HotelName\", \"HotelAddress\", \"HotelRating\", \"ReviewDate\", \"ReviewRating\", \"ReviewTitle\",\n",
    "                      \"ReviewText\"])\n",
    "\n",
    "    print(f\"csv {page_idx} finished\")\n",
    "\n",
    "    page_idx += 1\n",
    "    break\n",
    "\n",
    "driver.close()"
   ]
  },
  {
   "cell_type": "code",
   "execution_count": null,
   "metadata": {},
   "outputs": [],
   "source": []
  },
  {
   "cell_type": "code",
   "execution_count": null,
   "metadata": {},
   "outputs": [],
   "source": []
  },
  {
   "cell_type": "code",
   "execution_count": null,
   "metadata": {},
   "outputs": [],
   "source": []
  },
  {
   "cell_type": "code",
   "execution_count": null,
   "metadata": {},
   "outputs": [],
   "source": []
  },
  {
   "cell_type": "code",
   "execution_count": null,
   "metadata": {},
   "outputs": [],
   "source": []
  },
  {
   "cell_type": "code",
   "execution_count": null,
   "metadata": {},
   "outputs": [],
   "source": []
  },
  {
   "cell_type": "code",
   "execution_count": null,
   "metadata": {},
   "outputs": [],
   "source": []
  },
  {
   "cell_type": "code",
   "execution_count": null,
   "metadata": {},
   "outputs": [],
   "source": []
  },
  {
   "cell_type": "code",
   "execution_count": null,
   "metadata": {},
   "outputs": [],
   "source": []
  },
  {
   "cell_type": "code",
   "execution_count": null,
   "metadata": {},
   "outputs": [],
   "source": []
  },
  {
   "cell_type": "code",
   "execution_count": null,
   "metadata": {},
   "outputs": [],
   "source": []
  }
 ],
 "metadata": {
  "kernelspec": {
   "display_name": "Python 3",
   "language": "python",
   "name": "python3"
  },
  "language_info": {
   "codemirror_mode": {
    "name": "ipython",
    "version": 3
   },
   "file_extension": ".py",
   "mimetype": "text/x-python",
   "name": "python",
   "nbconvert_exporter": "python",
   "pygments_lexer": "ipython3",
   "version": "3.8.5"
  }
 },
 "nbformat": 4,
 "nbformat_minor": 4
}
