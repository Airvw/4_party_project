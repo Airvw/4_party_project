{
 "cells": [
  {
   "cell_type": "markdown",
   "metadata": {},
   "source": [
    "## Selenuium 기반 Tripadvisor Review Crawler"
   ]
  },
  {
   "cell_type": "code",
   "execution_count": 2,
   "metadata": {},
   "outputs": [],
   "source": [
    "# coding:utf-8\n",
    "\n",
    "import time\n",
    "from selenium.webdriver import Chrome\n",
    "from selenium.webdriver import ChromeOptions\n",
    "import re\n",
    "import pandas as pd\n",
    "from selenium.webdriver.common.by import By\n",
    "from selenium.webdriver.support.ui import WebDriverWait\n",
    "from selenium.webdriver.support import expected_conditions as EC\n",
    "from selenium.webdriver.common.keys import Keys"
   ]
  },
  {
   "cell_type": "code",
   "execution_count": 3,
   "metadata": {},
   "outputs": [],
   "source": [
    "def init_page_setting(driver):\n",
    "    filter_hotel_xpath = '//*[@id=\"component_10\"]/div/div[2]/div[5]/div[2]/div[1]/div/label'\n",
    "    driver.find_element_by_xpath(filter_hotel_xpath).click()  # 호텔 필터 클릭\n",
    "    time.sleep(8)\n",
    "\n",
    "    open_view_box_xpath = '/html/body/div[2]/div[1]/div[1]/div/div[2]/div[2]/div/div[2]/div[2]/span[1]/div/div/div[1]'\n",
    "    driver.find_element_by_xpath(open_view_box_xpath).click()\n",
    "    time.sleep(1)\n",
    "\n",
    "    sort_distance_xpath = '/html/body/div[2]/div[1]/div[1]/div/div[2]/div[2]/div/div[2]/div[2]/span[1]/div/div[2]/div[4]/div'\n",
    "    driver.find_element_by_xpath(sort_distance_xpath).click()\n",
    "    time.sleep(8)\n",
    "\n",
    "    \n",
    "def click_hotel_next_btn(driver):\n",
    "    next_btn_xpath = '//*[@class=\"unified ui_pagination standard_pagination ui_section listFooter\"]/a'\n",
    "    next_btn = driver.find_elements_by_xpath(next_btn_xpath)  # next page\n",
    "    next_btn[-1].send_keys(Keys.ENTER)\n",
    "    time.sleep(5)\n",
    "\n",
    "    \n",
    "def get_hotel_review(driver):\n",
    "    review_list = []\n",
    "    try:\n",
    "        review_pages = int(driver.find_elements_by_xpath('//*[@id=\"component_14\"]/div/div[3]/div[8]/div/div/a')[-1].text)\n",
    "    except:\n",
    "        review_pages = driver.find_element_by_xpath('//*[@id=\"component_4\"]/div/div/div[1]/div[2]/a/span[2]').text\n",
    "        review_pages = int(''.join(list(filter(str.isdigit, review_pages))))//4\n",
    "\n",
    "\n",
    "\n",
    "    hotel_name = driver.find_element_by_xpath('//*[@id=\"HEADING\"]').text\n",
    "    hotel_address = driver.find_element_by_xpath(\n",
    "        '//*[@id=\"component_4\"]/div/div/div[2]/div/div[2]/div/div/div').text\n",
    "    hotel_rating = float(driver.find_element_by_css_selector('span._3cjYfwwQ').text)\n",
    "\n",
    "    print(hotel_name, review_pages)\n",
    "\n",
    "    for i in range(review_pages):\n",
    "        try:\n",
    "            # 더보기 버튼 누르기 시도\n",
    "            more_btn = driver.find_element_by_css_selector('div.XUVJZtom')\n",
    "            driver.execute_script(\"arguments[0].click();\", more_btn)\n",
    "\n",
    "        except:\n",
    "            # 더보기 버튼이 존재하지 않으면 가져올 review가 없으므로 바로 탈출\n",
    "            driver.close()\n",
    "            return [[0]]\n",
    "\n",
    "        time.sleep(2)\n",
    "\n",
    "        # 추출할 속성들 정리\n",
    "        comment_tags = [driver.find_elements_by_css_selector('div._2fxQ4TOx'),  # Date\n",
    "                        driver.find_elements_by_css_selector('div.nf9vGX55'), # Review Rating\n",
    "\n",
    "                        driver.find_elements_by_css_selector('div.glasR4aX'), # Review Title\n",
    "                        driver.find_elements_by_css_selector('q.IRsGHoPm')  # review plain txt\n",
    "                        ]\n",
    "\n",
    "        # 추출한 속성 review_list에 추가\n",
    "        for d, rr, rt, rpt in zip(*comment_tags):\n",
    "            review_list.append([hotel_name, hotel_address, hotel_rating * 2, preprocessing_date(d.text),\n",
    "                                float(rr.find_element_by_xpath(\"descendant::span\").get_attribute('class')[-2:]) / 5, rt.text, rpt.text])\n",
    "        # 다음을 누를 수 있으면 다음\n",
    "        try :\n",
    "            review_next_btns = driver.find_elements_by_xpath('//*[@id=\"component_14\"]/div/div[3]/div[8]/div/a')\n",
    "            if review_next_btns[-1].text == \"다음\":\n",
    "                review_next_btns[-1].click()\n",
    "            time.sleep(4)\n",
    "\n",
    "        # 다음을 누를 수 없으므로 탈출\n",
    "        except:\n",
    "            break\n",
    "\n",
    "    driver.close()\n",
    "\n",
    "    return review_list\n",
    "\n",
    "\n",
    "def preprocessing_date(date):\n",
    "    try :\n",
    "        tmp = re.compile(r'\\d\\d\\d\\d년 \\d\\d월').search(date).group()\n",
    "        year, mon = tmp.split(\"년\")\n",
    "        return year + \"-\" + mon[1:3]\n",
    "    except:\n",
    "        return str(now_date.tm_year) + \"-\" + str(now_date.tm_mon)"
   ]
  },
  {
   "cell_type": "markdown",
   "metadata": {},
   "source": [
    "검색어를 지정해주는 방식을 Test"
   ]
  },
  {
   "cell_type": "code",
   "execution_count": 4,
   "metadata": {},
   "outputs": [],
   "source": [
    "# url 접속\n",
    "\n",
    "url = 'https://www.tripadvisor.co.kr/Hotels-g294197-Seoul-Hotels.html'\n",
    "options = ChromeOptions()\n",
    "# options.add_argument('headless')\n",
    "driver = Chrome(\"chromedriver\", options=options)\n",
    "driver.set_window_size(2560,1440)\n",
    "driver.get(url)\n",
    "time.sleep(5)"
   ]
  },
  {
   "cell_type": "code",
   "execution_count": null,
   "metadata": {},
   "outputs": [],
   "source": []
  },
  {
   "cell_type": "code",
   "execution_count": null,
   "metadata": {},
   "outputs": [],
   "source": []
  },
  {
   "cell_type": "code",
   "execution_count": null,
   "metadata": {},
   "outputs": [],
   "source": []
  },
  {
   "cell_type": "code",
   "execution_count": null,
   "metadata": {},
   "outputs": [],
   "source": []
  },
  {
   "cell_type": "code",
   "execution_count": null,
   "metadata": {},
   "outputs": [],
   "source": []
  },
  {
   "cell_type": "code",
   "execution_count": null,
   "metadata": {},
   "outputs": [],
   "source": []
  },
  {
   "cell_type": "code",
   "execution_count": null,
   "metadata": {},
   "outputs": [],
   "source": []
  },
  {
   "cell_type": "code",
   "execution_count": null,
   "metadata": {},
   "outputs": [],
   "source": []
  },
  {
   "cell_type": "code",
   "execution_count": null,
   "metadata": {},
   "outputs": [],
   "source": []
  },
  {
   "cell_type": "code",
   "execution_count": null,
   "metadata": {},
   "outputs": [],
   "source": []
  },
  {
   "cell_type": "code",
   "execution_count": null,
   "metadata": {},
   "outputs": [],
   "source": []
  },
  {
   "cell_type": "code",
   "execution_count": null,
   "metadata": {},
   "outputs": [],
   "source": []
  },
  {
   "cell_type": "code",
   "execution_count": null,
   "metadata": {},
   "outputs": [],
   "source": []
  }
 ],
 "metadata": {
  "kernelspec": {
   "display_name": "Python 3",
   "language": "python",
   "name": "python3"
  },
  "language_info": {
   "codemirror_mode": {
    "name": "ipython",
    "version": 3
   },
   "file_extension": ".py",
   "mimetype": "text/x-python",
   "name": "python",
   "nbconvert_exporter": "python",
   "pygments_lexer": "ipython3",
   "version": "3.8.5"
  }
 },
 "nbformat": 4,
 "nbformat_minor": 4
}
